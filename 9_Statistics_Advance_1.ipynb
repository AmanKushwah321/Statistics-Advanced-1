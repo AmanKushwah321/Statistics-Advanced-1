{
  "nbformat": 4,
  "nbformat_minor": 0,
  "metadata": {
    "colab": {
      "provenance": []
    },
    "kernelspec": {
      "name": "python3",
      "display_name": "Python 3"
    },
    "language_info": {
      "name": "python"
    }
  },
  "cells": [
    {
      "cell_type": "markdown",
      "source": [
        "#***Statistics Advanced-1***"
      ],
      "metadata": {
        "id": "WKJIKFVT57jh"
      }
    },
    {
      "cell_type": "markdown",
      "source": [
        "# Q 1: What is a random variable in probability theory?\n",
        "\n",
        "A random variable is a function that assigns a numerical value to each outcome in a sample space of a random experiment. It maps the outcomes of unpredictable events to numbers, allowing mathematical analysis. There are two main types: discrete (e.g., number of heads in coin flips) and continuous (e.g., height of a person)."
      ],
      "metadata": {
        "id": "sgcGEXyo54J-"
      }
    },
    {
      "cell_type": "markdown",
      "source": [
        "# Q 2: What are the types of random variables?\n",
        "\n",
        "Random variables are classified into two main types:\n",
        "- **Discrete Random Variable**: Takes countable, finite or infinite values (e.g., number of students in a class, like 100 students).\n",
        "- **Continuous Random Variable**: Takes uncountable values within an interval (e.g., weight of a person, such as 70.5 kg)."
      ],
      "metadata": {
        "id": "ikoZDoUX54AE"
      }
    },
    {
      "cell_type": "markdown",
      "source": [
        "# Q 3: Explain the difference between discrete and continuous distributions\n",
        "\n",
        "- **Discrete Distributions**: Describe the probability of each possible value of a discrete random variable (e.g., binomial distribution for coin flips, where probabilities are for exact counts like 0, 1, or 2 heads).\n",
        "- **Continuous Distributions**: Describe the probability over intervals for continuous random variables (e.g., normal distribution for heights, where probability is for ranges like 170-180 cm, not exact values).\n",
        "Difference: Discrete uses probability mass function (PMF) for exact values; continuous uses probability density function (PDF) for densities over intervals."
      ],
      "metadata": {
        "id": "cKqwZQCa539D"
      }
    },
    {
      "cell_type": "markdown",
      "source": [
        "# Q 4: What is a binomial distribution, and how is it used in probability?\n",
        "\n",
        "A binomial distribution models the number of successes in a fixed number of independent Bernoulli trials (each with success probability p). It's defined by n (trials) and p. Used in probability to calculate outcomes like the chance of getting exactly k successes (e.g., 5 heads in 10 coin flips with p=0.5)."
      ],
      "metadata": {
        "id": "cPEFDaci534D"
      }
    },
    {
      "cell_type": "markdown",
      "source": [
        "# Q 5: What is the standard normal distribution, and why is it important?\n",
        "\n",
        "The standard normal distribution is a normal distribution with mean (μ) = 0 and standard deviation (σ) = 1. It's important for standardizing data (via Z-scores), enabling comparisons across distributions, and as a reference for statistical tests (e.g., Z-tests).\n"
      ],
      "metadata": {
        "id": "kbRuBQoM53zy"
      }
    },
    {
      "cell_type": "markdown",
      "source": [
        "# Q 6: What is the Central Limit Theorem (CLT), and why is it critical in statistics?\n",
        "\n",
        "The Central Limit Theorem (CLT) states that the sampling distribution of the sample mean approaches a normal distribution as the sample size n increases (typically n > 30), regardless of the population's distribution, with mean = population mean and standard deviation = population sd / sqrt(n). It's critical for inferential statistics, enabling confidence intervals and hypothesis testing on means.\n"
      ],
      "metadata": {
        "id": "-RsaL09b53xa"
      }
    },
    {
      "cell_type": "markdown",
      "source": [
        "# Q 7: What is the significance of confidence intervals in statistical analysis?\n",
        "\n",
        "Confidence intervals (CI) provide a range around a sample statistic (e.g., mean) where the true population parameter is likely to lie, with a confidence level (e.g., 95%). They’re significant for estimating uncertainty, assessing precision, and making inferences (e.g., a 95% CI of [25, 33] for average age means we're 95% confident the true mean is between 25 and 33).\n"
      ],
      "metadata": {
        "id": "9Mcrlcve53vK"
      }
    },
    {
      "cell_type": "markdown",
      "source": [
        "# Q 8: What is the concept of expected value in a probability distribution?\n",
        "\n",
        "Expected value (E[X]) is the long-run average value of a random variable, calculated as the sum of each possible value multiplied by its probability for discrete distributions, or integral for continuous. It represents the mean outcome (e.g., E[X] = 108 for a distribution centered).\n"
      ],
      "metadata": {
        "id": "JD9hfuo36c0i"
      }
    },
    {
      "cell_type": "markdown",
      "source": [
        "# Q 9: Write a Python program to generate 1000 random numbers from a normal distribution with mean = 50 and standard deviation = 5. Compute its mean and standard deviation using NumPy, and draw a histogram to visualize the distribution?"
      ],
      "metadata": {
        "id": "Jmoo-aOX7QM9"
      }
    },
    {
      "cell_type": "code",
      "source": [
        "import numpy as np\n",
        "import matplotlib.pyplot as plt\n",
        "\n",
        "# Generate 1000 random numbers from normal distribution\n",
        "mean = 50\n",
        "std_dev = 5\n",
        "numbers = np.random.normal(mean, std_dev, 1000)\n",
        "\n",
        "# Compute mean and standard deviation\n",
        "calculated_mean = np.mean(numbers)\n",
        "calculated_std = np.std(numbers)\n",
        "\n",
        "print(f\"Calculated Mean: {calculated_mean}\")\n",
        "print(f\"Calculated Std Dev: {calculated_std}\")\n",
        "\n",
        "# Draw histogram\n",
        "plt.hist(numbers, bins=30, density=True, alpha=0.7)\n",
        "plt.title(\"Normal Distribution Histogram\")\n",
        "plt.xlabel(\"Value\")\n",
        "plt.ylabel(\"Frequency\")\n",
        "plt.show()"
      ],
      "metadata": {
        "colab": {
          "base_uri": "https://localhost:8080/",
          "height": 509
        },
        "id": "XmRUrv1E7zco",
        "outputId": "38ee5c08-452f-4b16-b03e-f49054b23932"
      },
      "execution_count": 1,
      "outputs": [
        {
          "output_type": "stream",
          "name": "stdout",
          "text": [
            "Calculated Mean: 49.677755664223774\n",
            "Calculated Std Dev: 4.972619420710491\n"
          ]
        },
        {
          "output_type": "display_data",
          "data": {
            "text/plain": [
              "<Figure size 640x480 with 1 Axes>"
            ],
            "image/png": "[encoded data removed]"
          },
          "metadata": {}
        }
      ]
    },
    {
      "cell_type": "markdown",
      "source": [
        "# Q 10: You are working as a data analyst for a retail company. The company has collected daily sales data for 2 years and wants to know if there is an overall sales trend.\n",
        "####   *daily_sales = [220, 245, 210, 265, 230, 250, 260, 275, 240, 255, 235, 260, 245, 250, 225, 270, 265, 255, 250, 260]*\n",
        "\n",
        "- Explain how you would apply the Central Limit Theorem to estimate the average sales with a 95% confidence interval?\n",
        "\n",
        "- Write the Python code to compute the mean sales and its confidence interval?"
      ],
      "metadata": {
        "id": "1cCA5imU5qTC"
      }
    },
    {
      "cell_type": "code",
      "source": [
        "import numpy as np\n",
        "from scipy.stats import norm\n",
        "\n",
        "daily_sales = [220, 245, 210, 265, 230, 250, 260, 275, 240, 255, 235, 260, 245, 250, 225, 270, 265, 255, 250, 260]\n",
        "\n",
        "# Compute sample mean and standard deviation\n",
        "sample_mean = np.mean(daily_sales)\n",
        "sample_std = np.std(daily_sales, ddof=1)  # Sample std\n",
        "n = len(daily_sales)\n",
        "\n",
        "# Standard error\n",
        "se = sample_std / np.sqrt(n)\n",
        "\n",
        "# 95% confidence interval (Z-score = 1.96 for 95%)\n",
        "z = norm.ppf(0.975)  # 1.96\n",
        "lower_ci = sample_mean - z * se\n",
        "upper_ci = sample_mean + z * se\n",
        "\n",
        "print(f\"Sample Mean: {sample_mean}\")\n",
        "print(f\"95% CI: ({lower_ci}, {upper_ci})\")"
      ],
      "metadata": {
        "colab": {
          "base_uri": "https://localhost:8080/"
        },
        "id": "LsKla0rG8QiK",
        "outputId": "de45f3e4-23d1-4b28-9443-a191f410a00b"
      },
      "execution_count": 2,
      "outputs": [
        {
          "output_type": "stream",
          "name": "stdout",
          "text": [
            "Sample Mean: 248.25\n",
            "95% CI: (240.68326838343515, 255.81673161656485)\n"
          ]
        }
      ]
    }
  ]
}